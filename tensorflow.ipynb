{
  "nbformat": 4,
  "nbformat_minor": 0,
  "metadata": {
    "colab": {
      "name": "programming excercise 1(first step with tf).ipynb",
      "provenance": []
    },
    "kernelspec": {
      "name": "python3",
      "display_name": "Python 3"
    },
    "language_info": {
      "name": "python"
    }
  },
  "cells": [
    {
      "cell_type": "code",
      "metadata": {
        "id": "fDndodq4CXAS"
      },
      "source": [
        "import pandas as pd\n",
        "import tensorflow as tf\n",
        "from matplotlib import pyplot as plt"
      ],
      "execution_count": 1,
      "outputs": []
    },
    {
      "cell_type": "code",
      "metadata": {
        "id": "HGjbTav7Cw8E"
      },
      "source": [
        "def build_model(my_learning_rate):\n",
        "  model=tf.keras.Sequential()\n",
        "  model.add(tf.keras.layers.Dense(units=1,input_shape=(1,)))\n",
        "  model.compile(optimizer=tf.keras.optimizers.RMSprop(lr=my_learning_rate),\n",
        "                loss=\"mean_squared_error\",\n",
        "                metrics=[tf.keras.metrics.RootMeanSquaredError()])\n",
        "\n",
        "  return model\n"
      ],
      "execution_count": 3,
      "outputs": []
    },
    {
      "cell_type": "code",
      "metadata": {
        "id": "MWgnSsyrEzAy"
      },
      "source": [
        "def train_model(model, feature, label, epochs, batch_size):\n",
        "  history = model.fit(x=feature,\n",
        "                      y=label,\n",
        "                      batch_size=batch_size,\n",
        "                      epochs=epochs)\n",
        "  trained_weight = model.get_weights()[0]\n",
        "  trained_bias = model.get_weights()[1]\n",
        "  epochs = history.epoch\n",
        "  hist = pd.DataFrame(history.history)\n",
        "  rmse = hist[\"root_mean_squared_error\"]\n",
        "  return trained_weight, trained_bias, epochs, rmse"
      ],
      "execution_count": 4,
      "outputs": []
    },
    {
      "cell_type": "code",
      "metadata": {
        "id": "n7Zupyv2FPry"
      },
      "source": [
        "my_feature = ([1.0, 2.0,  3.0,  4.0,  5.0,  6.0,  7.0,  8.0,  9.0, 10.0, 11.0, 12.0])\n",
        "my_label   = ([5.0, 8.8,  9.6, 14.2, 18.8, 19.5, 21.4, 26.8, 28.9, 32.0, 33.8, 38.2])\n"
      ],
      "execution_count": 7,
      "outputs": []
    },
    {
      "cell_type": "code",
      "metadata": {
        "id": "F90LVH_CFYbG"
      },
      "source": [
        "def plot_the_model(trained_weight, trained_bias, feature, label):\n",
        "  \"\"\"Plot the trained model against the training feature and label.\"\"\"\n",
        "\n",
        "  # Label the axes.\n",
        "  plt.xlabel(\"feature\")\n",
        "  plt.ylabel(\"label\")\n",
        "\n",
        "  # Plot the feature values vs. label values.\n",
        "  plt.scatter(feature, label)\n",
        "\n",
        "  # Create a red line representing the model. The red line starts\n",
        "  # at coordinates (x0, y0) and ends at coordinates (x1, y1).\n",
        "  x0 = 0\n",
        "  y0 = trained_bias\n",
        "  x1 = my_feature[-1]\n",
        "  y1 = trained_bias + (trained_weight * x1)\n",
        "  plt.plot([x0, x1], [y0, y1], c='r')\n",
        "\n",
        "  # Render the scatter plot and the red line.\n",
        "  plt.show()\n",
        "\n",
        "def plot_the_loss_curve(epochs, rmse):\n",
        "  \"\"\"Plot the loss curve, which shows loss vs. epoch.\"\"\"\n",
        "\n",
        "  plt.figure()\n",
        "  plt.xlabel(\"Epoch\")\n",
        "  plt.ylabel(\"Root Mean Squared Error\")\n",
        "\n",
        "  plt.plot(epochs, rmse, label=\"Loss\")\n",
        "  plt.legend()\n",
        "  plt.ylim([rmse.min()*0.97, rmse.max()])\n",
        "  plt.show()"
      ],
      "execution_count": 8,
      "outputs": []
    },
    {
      "cell_type": "code",
      "metadata": {
        "colab": {
          "base_uri": "https://localhost:8080/",
          "height": 1000
        },
        "id": "gAaedyxeFyjO",
        "outputId": "f36bb881-55ea-4c1d-b9dd-073f7ec340f9"
      },
      "source": [
        "learning_rate=0.05\n",
        "epochs=50\n",
        "my_batch_size=1\n",
        "\n",
        "my_model = build_model(learning_rate)\n",
        "trained_weight, trained_bias, epochs, rmse = train_model(my_model, my_feature, \n",
        "                                                         my_label, epochs,\n",
        "                                                         my_batch_size)\n",
        "plot_the_model(trained_weight, trained_bias, my_feature, my_label)\n",
        "plot_the_loss_curve(epochs, rmse)"
      ],
      "execution_count": 17,
      "outputs": [
        {
          "output_type": "stream",
          "text": [
            "/usr/local/lib/python3.7/dist-packages/tensorflow/python/keras/optimizer_v2/optimizer_v2.py:375: UserWarning: The `lr` argument is deprecated, use `learning_rate` instead.\n",
            "  \"The `lr` argument is deprecated, use `learning_rate` instead.\")\n"
          ],
          "name": "stderr"
        },
        {
          "output_type": "stream",
          "text": [
            "Epoch 1/50\n",
            "12/12 [==============================] - 0s 1ms/step - loss: 382.8392 - root_mean_squared_error: 19.5663\n",
            "Epoch 2/50\n",
            "12/12 [==============================] - 0s 1ms/step - loss: 231.2008 - root_mean_squared_error: 15.2053\n",
            "Epoch 3/50\n",
            "12/12 [==============================] - 0s 1ms/step - loss: 140.5504 - root_mean_squared_error: 11.8554\n",
            "Epoch 4/50\n",
            "12/12 [==============================] - 0s 1ms/step - loss: 77.2915 - root_mean_squared_error: 8.7916\n",
            "Epoch 5/50\n",
            "12/12 [==============================] - 0s 1ms/step - loss: 35.5779 - root_mean_squared_error: 5.9647\n",
            "Epoch 6/50\n",
            "12/12 [==============================] - 0s 1ms/step - loss: 12.8838 - root_mean_squared_error: 3.5894\n",
            "Epoch 7/50\n",
            "12/12 [==============================] - 0s 1ms/step - loss: 3.6678 - root_mean_squared_error: 1.9151\n",
            "Epoch 8/50\n",
            "12/12 [==============================] - 0s 1ms/step - loss: 1.4358 - root_mean_squared_error: 1.1983\n",
            "Epoch 9/50\n",
            "12/12 [==============================] - 0s 1ms/step - loss: 1.2258 - root_mean_squared_error: 1.1072\n",
            "Epoch 10/50\n",
            "12/12 [==============================] - 0s 1ms/step - loss: 1.3098 - root_mean_squared_error: 1.1445\n",
            "Epoch 11/50\n",
            "12/12 [==============================] - 0s 1ms/step - loss: 1.2798 - root_mean_squared_error: 1.1313\n",
            "Epoch 12/50\n",
            "12/12 [==============================] - 0s 1ms/step - loss: 1.0336 - root_mean_squared_error: 1.0167\n",
            "Epoch 13/50\n",
            "12/12 [==============================] - 0s 1ms/step - loss: 1.4044 - root_mean_squared_error: 1.1851\n",
            "Epoch 14/50\n",
            "12/12 [==============================] - 0s 1ms/step - loss: 1.2094 - root_mean_squared_error: 1.0997\n",
            "Epoch 15/50\n",
            "12/12 [==============================] - 0s 1ms/step - loss: 1.3152 - root_mean_squared_error: 1.1468\n",
            "Epoch 16/50\n",
            "12/12 [==============================] - 0s 1ms/step - loss: 1.3042 - root_mean_squared_error: 1.1420\n",
            "Epoch 17/50\n",
            "12/12 [==============================] - 0s 1ms/step - loss: 1.0219 - root_mean_squared_error: 1.0109\n",
            "Epoch 18/50\n",
            "12/12 [==============================] - 0s 1ms/step - loss: 1.0228 - root_mean_squared_error: 1.0113\n",
            "Epoch 19/50\n",
            "12/12 [==============================] - 0s 1ms/step - loss: 1.0579 - root_mean_squared_error: 1.0285\n",
            "Epoch 20/50\n",
            "12/12 [==============================] - 0s 1ms/step - loss: 1.2285 - root_mean_squared_error: 1.1084\n",
            "Epoch 21/50\n",
            "12/12 [==============================] - 0s 1ms/step - loss: 1.1978 - root_mean_squared_error: 1.0944\n",
            "Epoch 22/50\n",
            "12/12 [==============================] - 0s 1ms/step - loss: 1.0597 - root_mean_squared_error: 1.0294\n",
            "Epoch 23/50\n",
            "12/12 [==============================] - 0s 1ms/step - loss: 1.3175 - root_mean_squared_error: 1.1478\n",
            "Epoch 24/50\n",
            "12/12 [==============================] - 0s 1ms/step - loss: 1.1239 - root_mean_squared_error: 1.0601\n",
            "Epoch 25/50\n",
            "12/12 [==============================] - 0s 1ms/step - loss: 1.1417 - root_mean_squared_error: 1.0685\n",
            "Epoch 26/50\n",
            "12/12 [==============================] - 0s 1ms/step - loss: 1.2546 - root_mean_squared_error: 1.1201\n",
            "Epoch 27/50\n",
            "12/12 [==============================] - 0s 1ms/step - loss: 0.9632 - root_mean_squared_error: 0.9814\n",
            "Epoch 28/50\n",
            "12/12 [==============================] - 0s 1ms/step - loss: 1.2470 - root_mean_squared_error: 1.1167\n",
            "Epoch 29/50\n",
            "12/12 [==============================] - 0s 1ms/step - loss: 0.7441 - root_mean_squared_error: 0.8626\n",
            "Epoch 30/50\n",
            "12/12 [==============================] - 0s 1ms/step - loss: 1.3232 - root_mean_squared_error: 1.1503\n",
            "Epoch 31/50\n",
            "12/12 [==============================] - 0s 1ms/step - loss: 0.9401 - root_mean_squared_error: 0.9696\n",
            "Epoch 32/50\n",
            "12/12 [==============================] - 0s 1ms/step - loss: 1.3698 - root_mean_squared_error: 1.1704\n",
            "Epoch 33/50\n",
            "12/12 [==============================] - 0s 1ms/step - loss: 1.1881 - root_mean_squared_error: 1.0900\n",
            "Epoch 34/50\n",
            "12/12 [==============================] - 0s 1ms/step - loss: 1.2598 - root_mean_squared_error: 1.1224\n",
            "Epoch 35/50\n",
            "12/12 [==============================] - 0s 1ms/step - loss: 1.1509 - root_mean_squared_error: 1.0728\n",
            "Epoch 36/50\n",
            "12/12 [==============================] - 0s 1ms/step - loss: 0.9857 - root_mean_squared_error: 0.9928\n",
            "Epoch 37/50\n",
            "12/12 [==============================] - 0s 1ms/step - loss: 1.2467 - root_mean_squared_error: 1.1166\n",
            "Epoch 38/50\n",
            "12/12 [==============================] - 0s 1ms/step - loss: 1.0932 - root_mean_squared_error: 1.0455\n",
            "Epoch 39/50\n",
            "12/12 [==============================] - 0s 1ms/step - loss: 1.1716 - root_mean_squared_error: 1.0824\n",
            "Epoch 40/50\n",
            "12/12 [==============================] - 0s 1ms/step - loss: 1.2179 - root_mean_squared_error: 1.1036\n",
            "Epoch 41/50\n",
            "12/12 [==============================] - 0s 1ms/step - loss: 1.2225 - root_mean_squared_error: 1.1057\n",
            "Epoch 42/50\n",
            "12/12 [==============================] - 0s 1ms/step - loss: 1.1440 - root_mean_squared_error: 1.0696\n",
            "Epoch 43/50\n",
            "12/12 [==============================] - 0s 1ms/step - loss: 1.0977 - root_mean_squared_error: 1.0477\n",
            "Epoch 44/50\n",
            "12/12 [==============================] - 0s 1ms/step - loss: 1.1340 - root_mean_squared_error: 1.0649\n",
            "Epoch 45/50\n",
            "12/12 [==============================] - 0s 1ms/step - loss: 1.1578 - root_mean_squared_error: 1.0760\n",
            "Epoch 46/50\n",
            "12/12 [==============================] - 0s 1ms/step - loss: 1.1518 - root_mean_squared_error: 1.0732\n",
            "Epoch 47/50\n",
            "12/12 [==============================] - 0s 1ms/step - loss: 1.0300 - root_mean_squared_error: 1.0149\n",
            "Epoch 48/50\n",
            "12/12 [==============================] - 0s 1ms/step - loss: 1.2526 - root_mean_squared_error: 1.1192\n",
            "Epoch 49/50\n",
            "12/12 [==============================] - 0s 1ms/step - loss: 1.1710 - root_mean_squared_error: 1.0821\n",
            "Epoch 50/50\n",
            "12/12 [==============================] - 0s 1ms/step - loss: 1.1358 - root_mean_squared_error: 1.0657\n"
          ],
          "name": "stdout"
        },
        {
          "output_type": "stream",
          "text": [
            "/usr/local/lib/python3.7/dist-packages/numpy/core/_asarray.py:136: VisibleDeprecationWarning: Creating an ndarray from ragged nested sequences (which is a list-or-tuple of lists-or-tuples-or ndarrays with different lengths or shapes) is deprecated. If you meant to do this, you must specify 'dtype=object' when creating the ndarray\n",
            "  return array(a, dtype, copy=False, order=order, subok=True)\n"
          ],
          "name": "stderr"
        },
        {
          "output_type": "display_data",
          "data": {
            "image/png": "[encoded data removed]",
            "text/plain": [
              "<Figure size 432x288 with 1 Axes>"
            ]
          },
          "metadata": {
            "tags": [],
            "needs_background": "light"
          }
        },
        {
          "output_type": "display_data",
          "data": {
            "image/png": "[encoded data removed]",
            "text/plain": [
              "<Figure size 432x288 with 1 Axes>"
            ]
          },
          "metadata": {
            "tags": [],
            "needs_background": "light"
          }
        }
      ]
    }
  ]
}